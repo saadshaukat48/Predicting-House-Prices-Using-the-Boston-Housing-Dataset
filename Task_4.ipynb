{
  "nbformat": 4,
  "nbformat_minor": 0,
  "metadata": {
    "colab": {
      "provenance": []
    },
    "kernelspec": {
      "name": "python3",
      "display_name": "Python 3"
    },
    "language_info": {
      "name": "python"
    }
  },
  "cells": [
    {
      "cell_type": "markdown",
      "source": [
        "**Data Preprocessing:**"
      ],
      "metadata": {
        "id": "p1zCYF0o4z4V"
      }
    },
    {
      "cell_type": "code",
      "execution_count": 5,
      "metadata": {
        "colab": {
          "base_uri": "https://localhost:8080/"
        },
        "id": "jEo4bfio3Glk",
        "outputId": "48ff5819-3335-4e18-e18d-5535cd5175fb"
      },
      "outputs": [
        {
          "output_type": "stream",
          "name": "stdout",
          "text": [
            "Missing values before cleaning:\n",
            "CRIM       0\n",
            "ZN         0\n",
            "INDUS      0\n",
            "CHAS       0\n",
            "NOX        0\n",
            "RM         0\n",
            "AGE        0\n",
            "DIS        0\n",
            "RAD        0\n",
            "TAX        0\n",
            "PTRATIO    0\n",
            "B          0\n",
            "LSTAT      0\n",
            "MEDV       0\n",
            "dtype: int64\n",
            "\n",
            "Missing values after coercing to numeric:\n",
            "CRIM       0\n",
            "ZN         0\n",
            "INDUS      0\n",
            "CHAS       0\n",
            "NOX        0\n",
            "RM         0\n",
            "AGE        0\n",
            "DIS        0\n",
            "RAD        0\n",
            "TAX        0\n",
            "PTRATIO    0\n",
            "B          0\n",
            "LSTAT      0\n",
            "MEDV       0\n",
            "dtype: int64\n",
            "\n",
            "Data types after cleaning:\n",
            "CRIM       float64\n",
            "ZN         float64\n",
            "INDUS      float64\n",
            "CHAS         int64\n",
            "NOX        float64\n",
            "RM         float64\n",
            "AGE        float64\n",
            "DIS        float64\n",
            "RAD          int64\n",
            "TAX        float64\n",
            "PTRATIO    float64\n",
            "B          float64\n",
            "LSTAT      float64\n",
            "MEDV       float64\n",
            "dtype: object\n"
          ]
        },
        {
          "output_type": "stream",
          "name": "stderr",
          "text": [
            "/tmp/ipython-input-5-227261501.py:16: FutureWarning: The 'delim_whitespace' keyword in pd.read_csv is deprecated and will be removed in a future version. Use ``sep='\\s+'`` instead\n",
            "  df = pd.read_csv(\"housing.csv\", delim_whitespace=True, names=columns)\n"
          ]
        }
      ],
      "source": [
        "import pandas as pd\n",
        "import numpy as np\n",
        "import matplotlib.pyplot as plt\n",
        "import seaborn as sns\n",
        "from sklearn.model_selection import train_test_split\n",
        "from sklearn.metrics import mean_squared_error, r2_score\n",
        "from collections import Counter\n",
        "\n",
        "# Load dataset\n",
        "# The original file likely has space-separated values and no header.\n",
        "# Use delim_whitespace=True and header=None.\n",
        "columns = [\n",
        "    'CRIM', 'ZN', 'INDUS', 'CHAS', 'NOX', 'RM',\n",
        "    'AGE', 'DIS', 'RAD', 'TAX', 'PTRATIO', 'B', 'LSTAT', 'MEDV'\n",
        "]\n",
        "df = pd.read_csv(\"housing.csv\", delim_whitespace=True, names=columns)\n",
        "\n",
        "# Check for missing values (optional but good practice)\n",
        "print(\"Missing values before cleaning:\")\n",
        "print(df.isnull().sum())\n",
        "\n",
        "# Convert relevant columns to numeric, coercing errors to NaN\n",
        "# This step is crucial if the file has formatting issues that cause\n",
        "# some values to be read as strings.\n",
        "for col in columns:\n",
        "    # Exclude 'CHAS' as it's likely categorical or already numeric\n",
        "    # if it was read correctly. We primarily focus on potential\n",
        "    # issues with continuous numeric columns.\n",
        "    if col != 'CHAS':\n",
        "        df[col] = pd.to_numeric(df[col], errors='coerce')\n",
        "\n",
        "# After coercing errors, check for newly introduced NaNs\n",
        "print(\"\\nMissing values after coercing to numeric:\")\n",
        "print(df.isnull().sum())\n",
        "\n",
        "# Handle potential new NaNs, for example, by dropping rows or imputing\n",
        "# For simplicity, let's drop rows with any NaNs introduced by coercion\n",
        "df.dropna(inplace=True)\n",
        "\n",
        "# Check data types to confirm columns are numeric\n",
        "print(\"\\nData types after cleaning:\")\n",
        "print(df.dtypes)\n",
        "\n",
        "# Now we can proceed\n",
        "# Separate features and target\n",
        "X = df.drop(columns=[\"MEDV\"])\n",
        "y = df[\"MEDV\"]\n",
        "\n",
        "# Normalize numerical features\n",
        "# This should now work as X contains only numeric data after cleaning\n",
        "X = (X - X.mean()) / X.std()\n",
        "\n",
        "# Split the data\n",
        "X_train, X_test, y_train, y_test = train_test_split(X.values, y.values, test_size=0.2, random_state=42)"
      ]
    },
    {
      "cell_type": "markdown",
      "source": [
        "**Model Implementation:**\n",
        "\n",
        "*  Linear Regression\n",
        "*  Random Forest\n",
        "*  XGBoost\n",
        "\n",
        "\n"
      ],
      "metadata": {
        "id": "7lSuWKrL48EA"
      }
    },
    {
      "cell_type": "code",
      "source": [
        "class LinearRegressionScratch:\n",
        "    def __init__(self, lr=0.01, n_iters=1000):\n",
        "        self.lr = lr\n",
        "        self.n_iters = n_iters\n",
        "\n",
        "    def fit(self, X, y):\n",
        "        self.m, self.n = X.shape\n",
        "        self.weights = np.zeros(self.n)\n",
        "        self.bias = 0\n",
        "\n",
        "        for _ in range(self.n_iters):\n",
        "            y_pred = np.dot(X, self.weights) + self.bias\n",
        "            dw = (1 / self.m) * np.dot(X.T, (y_pred - y))\n",
        "            db = (1 / self.m) * np.sum(y_pred - y)\n",
        "            self.weights -= self.lr * dw\n",
        "            self.bias -= self.lr * db\n",
        "\n",
        "    def predict(self, X):\n",
        "        return np.dot(X, self.weights) + self.bias"
      ],
      "metadata": {
        "id": "hgeQoPsc3jsq"
      },
      "execution_count": 6,
      "outputs": []
    },
    {
      "cell_type": "code",
      "source": [
        "from sklearn.tree import DecisionTreeRegressor\n",
        "\n",
        "class RandomForestScratch:\n",
        "    def __init__(self, n_estimators=10, max_features='sqrt'):\n",
        "        self.n_estimators = n_estimators\n",
        "        self.max_features = max_features\n",
        "        self.trees = []\n",
        "\n",
        "    def fit(self, X, y):\n",
        "        self.trees = []\n",
        "        n_samples, n_features = X.shape\n",
        "        max_feat = int(np.sqrt(n_features)) if self.max_features == 'sqrt' else n_features\n",
        "\n",
        "        for _ in range(self.n_estimators):\n",
        "            indices = np.random.choice(n_samples, n_samples, replace=True)\n",
        "            features = np.random.choice(n_features, max_feat, replace=False)\n",
        "            tree = DecisionTreeRegressor(max_depth=10)\n",
        "            tree.fit(X[indices][:, features], y[indices])\n",
        "            self.trees.append((tree, features))\n",
        "\n",
        "    def predict(self, X):\n",
        "        tree_preds = np.array([tree.predict(X[:, feat]) for tree, feat in self.trees])\n",
        "        return np.mean(tree_preds, axis=0)\n"
      ],
      "metadata": {
        "id": "lGjmt5Kv4gEO"
      },
      "execution_count": 7,
      "outputs": []
    },
    {
      "cell_type": "code",
      "source": [
        "class XGBoostScratch:\n",
        "    def __init__(self, n_estimators=50, learning_rate=0.1):\n",
        "        self.n_estimators = n_estimators\n",
        "        self.learning_rate = learning_rate\n",
        "        self.models = []\n",
        "\n",
        "    def fit(self, X, y):\n",
        "        y_pred = np.zeros(len(y))\n",
        "        for _ in range(self.n_estimators):\n",
        "            residuals = y - y_pred\n",
        "            model = DecisionTreeRegressor(max_depth=3)\n",
        "            model.fit(X, residuals)\n",
        "            update = model.predict(X)\n",
        "            y_pred += self.learning_rate * update\n",
        "            self.models.append(model)\n",
        "\n",
        "    def predict(self, X):\n",
        "        y_pred = np.zeros(X.shape[0])\n",
        "        for model in self.models:\n",
        "            y_pred += self.learning_rate * model.predict(X)\n",
        "        return y_pred\n"
      ],
      "metadata": {
        "id": "NX9HPHW94jQd"
      },
      "execution_count": 9,
      "outputs": []
    },
    {
      "cell_type": "markdown",
      "source": [
        "**Performance Comparison**"
      ],
      "metadata": {
        "id": "G6LYYQ195ipM"
      }
    },
    {
      "cell_type": "code",
      "source": [
        "def evaluate_model(model, X_test, y_test, name):\n",
        "    preds = model.predict(X_test)\n",
        "    rmse = np.sqrt(mean_squared_error(y_test, preds))\n",
        "    r2 = r2_score(y_test, preds)\n",
        "    print(f\"{name} -> RMSE: {rmse:.2f}, R2 Score: {r2:.2f}\")\n",
        "    return rmse, r2\n",
        "\n",
        "# Train and evaluate Linear Regression\n",
        "lr_model = LinearRegressionScratch()\n",
        "lr_model.fit(X_train, y_train)\n",
        "evaluate_model(lr_model, X_test, y_test, \"Linear Regression\")\n",
        "\n",
        "# Train and evaluate Random Forest\n",
        "rf_model = RandomForestScratch(n_estimators=20)\n",
        "rf_model.fit(X_train, y_train)\n",
        "evaluate_model(rf_model, X_test, y_test, \"Random Forest\")\n",
        "\n",
        "# Train and evaluate XGBoost\n",
        "xgb_model = XGBoostScratch(n_estimators=50)\n",
        "xgb_model.fit(X_train, y_train)\n",
        "evaluate_model(xgb_model, X_test, y_test, \"XGBoost\")\n"
      ],
      "metadata": {
        "colab": {
          "base_uri": "https://localhost:8080/"
        },
        "id": "DVSbIY4t4oGG",
        "outputId": "f4ea0687-4594-48bb-f435-0864cb6134ef"
      },
      "execution_count": 10,
      "outputs": [
        {
          "output_type": "stream",
          "name": "stdout",
          "text": [
            "Linear Regression -> RMSE: 5.04, R2 Score: 0.65\n",
            "Random Forest -> RMSE: 4.31, R2 Score: 0.75\n",
            "XGBoost -> RMSE: 2.70, R2 Score: 0.90\n"
          ]
        },
        {
          "output_type": "execute_result",
          "data": {
            "text/plain": [
              "(np.float64(2.6965576768458623), 0.900844835883354)"
            ]
          },
          "metadata": {},
          "execution_count": 10
        }
      ]
    },
    {
      "cell_type": "markdown",
      "source": [
        "**Visualization:**"
      ],
      "metadata": {
        "id": "KKd-n22z5rdN"
      }
    },
    {
      "cell_type": "code",
      "source": [
        "# For Random Forest\n",
        "importances_rf = np.zeros(X.shape[1])\n",
        "for tree, features in rf_model.trees:\n",
        "    imp = tree.feature_importances_\n",
        "    for i, f in enumerate(features):\n",
        "        importances_rf[f] += imp[i]\n",
        "\n",
        "plt.figure(figsize=(10, 5))\n",
        "plt.bar(X.columns, importances_rf)\n",
        "plt.title(\"Random Forest Feature Importance\")\n",
        "plt.xticks(rotation=90)\n",
        "plt.tight_layout()\n",
        "plt.show()\n"
      ],
      "metadata": {
        "colab": {
          "base_uri": "https://localhost:8080/",
          "height": 507
        },
        "id": "SBvTwLwS4rvl",
        "outputId": "b2666569-dc48-4a45-9594-3d235c907f88"
      },
      "execution_count": 11,
      "outputs": [
        {
          "output_type": "display_data",
          "data": {
            "text/plain": [
              "<Figure size 1000x500 with 1 Axes>"
            ],
            "image/png": "[encoded data removed]"
          },
          "metadata": {}
        }
      ]
    },
    {
      "cell_type": "code",
      "source": [],
      "metadata": {
        "id": "QH4UrwQa4uod"
      },
      "execution_count": null,
      "outputs": []
    }
  ]
}